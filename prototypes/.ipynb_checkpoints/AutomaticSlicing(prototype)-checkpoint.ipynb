{
 "cells": [
  {
   "cell_type": "code",
   "execution_count": 1,
   "id": "9b377522",
   "metadata": {
    "pycharm": {
     "is_executing": true,
     "name": "#%%\n"
    }
   },
   "outputs": [
    {
     "name": "stderr",
     "output_type": "stream",
     "text": [
      "[   INFO   ] MusicExtractorSVM: no classifier models were configured by default\n"
     ]
    }
   ],
   "source": [
    "import essentia\n",
    "from essentia.standard import *\n",
    "import IPython\n",
    "from scipy.io import wavfile\n",
    "import matplotlib.pyplot as plt"
   ]
  },
  {
   "cell_type": "code",
   "execution_count": null,
   "id": "815be107",
   "metadata": {
    "pycharm": {
     "is_executing": true,
     "name": "#%%\n"
    }
   },
   "outputs": [],
   "source": [
    "# Loading audio file in mono\n",
    "audio = MonoLoader(filename='../loops/audio2.wav')() \n",
    "\n",
    "# Phase 1: compute the onset detection function\n",
    "#hfc method\n",
    "od1 = OnsetDetection(method='hfc')\n",
    "\n",
    "# Let's also get the other algorithms we will need, and a pool to store the results\n",
    "w = Windowing(type = 'hann')\n",
    "fft = FFT() # this gives us a complex FFT\n",
    "c2p = CartesianToPolar() # and this turns it into a pair (magnitude, phase)\n",
    "pool = essentia.Pool()\n",
    "\n",
    "# Computing onset detection functions.\n",
    "for frame in FrameGenerator(audio, frameSize = 1024, hopSize = 512):\n",
    "    mag, phase, = c2p(fft(w(frame)))\n",
    "    pool.add('features.hfc', od1(mag, phase))\n",
    "\n",
    "# Phase 2: compute the actual onsets locations\n",
    "onsets = Onsets()\n",
    "\n",
    "onsets_hfc = onsets(# this algo expects a matrix, not a vector\n",
    "                    essentia.array([ pool['features.hfc'] ]),\n",
    "\n",
    "                    # you need to specify weights, but as there is only a single\n",
    "                    # function, it doesn't actually matter which weight you give it\n",
    "                    [ 1 ])\n",
    "\n",
    "\n",
    "\n",
    "# Mark onsets on the audio, which we'll write back to disk\n",
    "# We use beeps instead of white noise and stereo signal as it's more distinctive\n",
    "\n",
    "#silence = [0.] * len(audio)\n",
    "\n",
    "#beeps_hfc = AudioOnsetsMarker(onsets=onsets_hfc, type='beep')(silence)\n",
    "#AudioWriter(filename='audios/audio1_onsets_hfc.mp3', format='mp3')(StereoMuxer()(audio, beeps_hfc))"
   ]
  },
  {
   "cell_type": "code",
   "execution_count": null,
   "id": "daca66f6",
   "metadata": {
    "pycharm": {
     "name": "#%%\n"
    },
    "scrolled": true
   },
   "outputs": [],
   "source": [
    "plt.plot(audio)\n",
    "for onset in onsets_hfc:\n",
    "    plt.axvline(x=onset*44100, color='red')\n",
    "\n",
    "plt.title(\"Audio waveform and the estimated onset positions (HFC onset detection function)\")\n",
    "plt.show()\n",
    "\n",
    "IPython.display.Audio(audio, rate=44100)\n"
   ]
  },
  {
   "cell_type": "code",
   "execution_count": null,
   "id": "09cfd63b",
   "metadata": {
    "pycharm": {
     "name": "#%%\n"
    }
   },
   "outputs": [],
   "source": [
    "\n",
    "    \n",
    "audio_test = audio[0:12500]    \n",
    "IPython.display.Audio(chopList[0],rate = 44100)\n",
    "\n",
    "print(chopList[0])\n"
   ]
  },
  {
   "cell_type": "code",
   "execution_count": null,
   "id": "ea44d577",
   "metadata": {
    "pycharm": {
     "name": "#%%\n"
    }
   },
   "outputs": [],
   "source": [
    "IPython.display.Audio(chopList[1],rate = 44100)\n"
   ]
  },
  {
   "cell_type": "code",
   "execution_count": null,
   "id": "620bbd19",
   "metadata": {
    "pycharm": {
     "name": "#%%\n"
    }
   },
   "outputs": [],
   "source": [
    "IPython.display.Audio(chopList[2],rate = 44100)"
   ]
  },
  {
   "cell_type": "code",
   "execution_count": null,
   "id": "4ef68457",
   "metadata": {
    "pycharm": {
     "name": "#%%\n"
    }
   },
   "outputs": [],
   "source": [
    "IPython.display.Audio(chopList[3],rate = 44100)\n"
   ]
  },
  {
   "cell_type": "code",
   "execution_count": null,
   "id": "34275242",
   "metadata": {
    "pycharm": {
     "name": "#%%\n"
    }
   },
   "outputs": [],
   "source": [
    "IPython.display.Audio(chopList[4],rate = 44100)"
   ]
  },
  {
   "cell_type": "code",
   "execution_count": null,
   "id": "517fc2c0",
   "metadata": {
    "pycharm": {
     "name": "#%%\n"
    }
   },
   "outputs": [],
   "source": [
    "def get_onsets_hfc(audio,fs):\n",
    "        od = OnsetDetection(method='hfc')\n",
    "\n",
    "        w = Windowing(type='hann')\n",
    "        fft = FFT()  # this gives us a complex FFT\n",
    "        c2p = CartesianToPolar()  # and this turns it into a pair (magnitude, phase)\n",
    "        pool = essentia.Pool()\n",
    "\n",
    "        # Computing onset detection functions.\n",
    "        for frame in FrameGenerator(audio, frameSize=1024, hopSize=512):\n",
    "            mag, phase, = c2p(fft(w(frame)))\n",
    "            pool.add('features.hfc', od(mag, phase))\n",
    "\n",
    "            onsets = Onsets()\n",
    "            onsets_hfc_seconds = onsets(essentia.array([pool['features.hfc']]), [1])\n",
    "\n",
    "        onsets_hfc_samples = onsets_hfc_seconds * fs #retun\n",
    "        return onsets_hfc_samples, onsets_hfc_seconds\n",
    "\n",
    "\n",
    "    def get_slices(audio, fs):\n",
    "        onsets_hfc = get_onsets_hfc(audio,fs)[0]\n",
    "        chopList = []\n",
    "        for onset in range(len(onsets_hfc) - 1):\n",
    "            chopList.append(audio[int(onsets_hfc[onset]):int((onsets_hfc[onset + 1]))])\n",
    "\n",
    "        return chopList\n",
    "    \n"
   ]
  },
  {
   "cell_type": "code",
   "execution_count": null,
   "id": "77597f3d",
   "metadata": {},
   "outputs": [],
   "source": [
    "audio = MonoLoader(filename='../loops/audio2.wav')\n",
    "get_slices(audio)"
   ]
  }
 ],
 "metadata": {
  "kernelspec": {
   "display_name": "Python 3 (ipykernel)",
   "language": "python",
   "name": "python3"
  },
  "language_info": {
   "codemirror_mode": {
    "name": "ipython",
    "version": 3
   },
   "file_extension": ".py",
   "mimetype": "text/x-python",
   "name": "python",
   "nbconvert_exporter": "python",
   "pygments_lexer": "ipython3",
   "version": "3.8.10"
  }
 },
 "nbformat": 4,
 "nbformat_minor": 5
}
