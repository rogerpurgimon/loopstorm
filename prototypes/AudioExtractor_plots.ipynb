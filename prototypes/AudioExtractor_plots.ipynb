{
 "cells": [
  {
   "cell_type": "code",
   "execution_count": 22,
   "id": "a0e3d32c",
   "metadata": {
    "pycharm": {
     "name": "#%%\n"
    }
   },
   "outputs": [],
   "source": [
    "import essentia\n",
    "import numpy as np\n",
    "from essentia.standard import *\n",
    "import matplotlib.pyplot as plt\n",
    "from matplotlib import cm\n",
    "\n",
    "class AudioExtractor:\n",
    "\n",
    "    def __init__(self,loop):\n",
    "        self.loop = loop\n",
    "        self.chopList = []\n",
    "        self.fs = 44100\n",
    "        self.w_onset = 'hann'\n",
    "        self.mfccs = []\n",
    "        self.w_mfcc = 'blackmanharris62'\n",
    "\n",
    "    def __call__(self):\n",
    "        return self.chopList\n",
    "\n",
    "    def get_onsets(self):\n",
    "        od = OnsetDetection(method='hfc')\n",
    "\n",
    "        w = Windowing(type=self.w_onset)\n",
    "        fft = FFT()  # this gives us a complex FFT\n",
    "        c2p = CartesianToPolar()  # and this turns it into a pair (magnitude, phase)\n",
    "        pool = essentia.Pool()\n",
    "\n",
    "        # Computing onset detection functions.\n",
    "        for frame in FrameGenerator(self.loop, frameSize=1024, hopSize=512):\n",
    "            mag, phase, = c2p(fft(w(frame)))\n",
    "            pool.add('features.hfc', od(mag, phase))\n",
    "\n",
    "        onsets = Onsets()\n",
    "        onsets_hfc_seconds = onsets(essentia.array([pool['features.hfc']]), [1])\n",
    "\n",
    "        onsets_hfc_samples = onsets_hfc_seconds * self.fs #retun\n",
    "        return onsets_hfc_samples, onsets_hfc_seconds\n",
    "\n",
    "\n",
    "    def get_slices(self,onsets_hfc):\n",
    "        onsets_hfc = onsets_hfc[0]  # onset stamps in samples\n",
    "        for onset in range(len(onsets_hfc) - 1):\n",
    "            self.chopList.append(self.loop[int(onsets_hfc[onset]):int((onsets_hfc[onset + 1]))])\n",
    "\n",
    "\n",
    "    def extract_mfcc(self,slice):\n",
    "        w = Windowing(type=self.w_mfcc)\n",
    "        spectrum = Spectrum()\n",
    "        mfcc = MFCC()\n",
    "        for frame in FrameGenerator(slice, frameSize=2048, hopSize=1024):\n",
    "            mfcc_bands, mfcc_coeffs = mfcc(spectrum(w(frame)))\n",
    "            self.mfccs.append(mfcc_coeffs)\n",
    "        self.mfccs = essentia.array(self.mfccs).T\n",
    "        self.mfccs = np.squeeze(np.asarray(self.mfccs))\n",
    "        row_sums = self.mfccs.sum(axis=1)\n",
    "        self.mfccs = self.mfccs / row_sums[:, np.newaxis]\n",
    "        print(self.mfccs.shape[1])"
   ]
  },
  {
   "cell_type": "code",
   "execution_count": 23,
   "id": "c888b0c9",
   "metadata": {
    "pycharm": {
     "name": "#%%\n"
    }
   },
   "outputs": [
    {
     "data": {
      "image/png": "[encoded data removed]",
      "text/plain": [
       "<Figure size 432x288 with 1 Axes>"
      ]
     },
     "metadata": {
      "needs_background": "light"
     },
     "output_type": "display_data"
    },
    {
     "name": "stdout",
     "output_type": "stream",
     "text": [
      "12\n"
     ]
    },
    {
     "data": {
      "image/png": "[encoded data removed]",
      "text/plain": [
       "<Figure size 432x288 with 1 Axes>"
      ]
     },
     "metadata": {
      "needs_background": "light"
     },
     "output_type": "display_data"
    }
   ],
   "source": [
    "loop = MonoLoader(filename='../loops/audio3.wav')()\n",
    "loop1 = AudioExtractor(loop)\n",
    "onsets_hfc = loop1.get_onsets()\n",
    "loop1.get_slices(onsets_hfc)\n",
    "\n",
    "# chopList contain the list of slices, separately\n",
    "slice1 = loop1.chopList[2] #first slice\n",
    "plt.plot(slice1)\n",
    "plt.show()\n",
    "\n",
    "loop1.extract_mfcc(slice1)\n",
    "\n",
    "plt.imshow(loop1.mfccs[1:,:], aspect='auto', origin='lower', interpolation='none')\n",
    "plt.show()\n"
   ]
  },
  {
   "cell_type": "code",
   "execution_count": null,
   "id": "ce9fb3b4",
   "metadata": {
    "pycharm": {
     "name": "#%%\n"
    }
   },
   "outputs": [],
   "source": []
  },
  {
   "cell_type": "code",
   "execution_count": null,
   "id": "04cf67d5",
   "metadata": {
    "pycharm": {
     "name": "#%%\n"
    }
   },
   "outputs": [],
   "source": []
  },
  {
   "cell_type": "code",
   "execution_count": null,
   "id": "3443bde0",
   "metadata": {
    "pycharm": {
     "name": "#%%\n"
    }
   },
   "outputs": [],
   "source": []
  }
 ],
 "metadata": {
  "kernelspec": {
   "display_name": "Python 3 (ipykernel)",
   "language": "python",
   "name": "python3"
  },
  "language_info": {
   "codemirror_mode": {
    "name": "ipython",
    "version": 3
   },
   "file_extension": ".py",
   "mimetype": "text/x-python",
   "name": "python",
   "nbconvert_exporter": "python",
   "pygments_lexer": "ipython3",
   "version": "3.8.10"
  }
 },
 "nbformat": 4,
 "nbformat_minor": 5
}