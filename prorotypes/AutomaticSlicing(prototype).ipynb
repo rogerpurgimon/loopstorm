{
 "cells": [
  {
   "cell_type": "code",
   "execution_count": 1,
   "id": "9b377522",
   "metadata": {
    "pycharm": {
     "is_executing": true,
     "name": "#%%\n"
    }
   },
   "outputs": [
    {
     "name": "stderr",
     "output_type": "stream",
     "text": [
      "[   INFO   ] MusicExtractorSVM: no classifier models were configured by default\n"
     ]
    }
   ],
   "source": [
    "import essentia\n",
    "from essentia.standard import *\n",
    "import IPython\n",
    "from scipy.io import wavfile\n",
    "import matplotlib.pyplot as plt"
   ]
  },
  {
   "cell_type": "code",
   "execution_count": null,
   "id": "815be107",
   "metadata": {
    "pycharm": {
     "is_executing": true,
     "name": "#%%\n"
    }
   },
   "outputs": [],
   "source": [
    "# Loading audio file in mono\n",
    "audio = MonoLoader(filename='../loops/audio2.wav')() \n",
    "\n",
    "# Phase 1: compute the onset detection function\n",
    "#hfc method\n",
    "od1 = OnsetDetection(method='hfc')\n",
    "\n",
    "# Let's also get the other algorithms we will need, and a pool to store the results\n",
    "w = Windowing(type = 'hann')\n",
    "fft = FFT() # this gives us a complex FFT\n",
    "c2p = CartesianToPolar() # and this turns it into a pair (magnitude, phase)\n",
    "pool = essentia.Pool()\n",
    "\n",
    "# Computing onset detection functions.\n",
    "for frame in FrameGenerator(audio, frameSize = 1024, hopSize = 512):\n",
    "    mag, phase, = c2p(fft(w(frame)))\n",
    "    pool.add('features.hfc', od1(mag, phase))\n",
    "\n",
    "# Phase 2: compute the actual onsets locations\n",
    "onsets = Onsets()\n",
    "\n",
    "onsets_hfc = onsets(# this algo expects a matrix, not a vector\n",
    "                    essentia.array([ pool['features.hfc'] ]),\n",
    "\n",
    "                    # you need to specify weights, but as there is only a single\n",
    "                    # function, it doesn't actually matter which weight you give it\n",
    "                    [ 1 ])\n",
    "\n",
    "\n",
    "\n",
    "# Mark onsets on the audio, which we'll write back to disk\n",
    "# We use beeps instead of white noise and stereo signal as it's more distinctive\n",
    "\n",
    "#silence = [0.] * len(audio)\n",
    "\n",
    "#beeps_hfc = AudioOnsetsMarker(onsets=onsets_hfc, type='beep')(silence)\n",
    "#AudioWriter(filename='audios/audio1_onsets_hfc.mp3', format='mp3')(StereoMuxer()(audio, beeps_hfc))"
   ]
  },
  {
   "cell_type": "code",
   "execution_count": null,
   "id": "daca66f6",
   "metadata": {
    "pycharm": {
     "name": "#%%\n"
    },
    "scrolled": true
   },
   "outputs": [],
   "source": [
    "plt.plot(audio)\n",
    "for onset in onsets_hfc:\n",
    "    plt.axvline(x=onset*44100, color='red')\n",
    "\n",
    "plt.title(\"Audio waveform and the estimated onset positions (HFC onset detection function)\")\n",
    "plt.show()\n",
    "\n",
    "IPython.display.Audio(audio, rate=44100)\n"
   ]
  },
  {
   "cell_type": "code",
   "execution_count": null,
   "id": "09cfd63b",
   "metadata": {
    "pycharm": {
     "name": "#%%\n"
    }
   },
   "outputs": [],
   "source": [
    "\n",
    "    \n",
    "audio_test = audio[0:12500]    \n",
    "IPython.display.Audio(chopList[0],rate = 44100)\n",
    "\n",
    "print(chopList[0])\n"
   ]
  },
  {
   "cell_type": "code",
   "execution_count": null,
   "id": "ea44d577",
   "metadata": {
    "pycharm": {
     "name": "#%%\n"
    }
   },
   "outputs": [],
   "source": [
    "IPython.display.Audio(chopList[1],rate = 44100)\n"
   ]
  },
  {
   "cell_type": "code",
   "execution_count": null,
   "id": "620bbd19",
   "metadata": {
    "pycharm": {
     "name": "#%%\n"
    }
   },
   "outputs": [],
   "source": [
    "IPython.display.Audio(chopList[2],rate = 44100)"
   ]
  },
  {
   "cell_type": "code",
   "execution_count": null,
   "id": "4ef68457",
   "metadata": {
    "pycharm": {
     "name": "#%%\n"
    }
   },
   "outputs": [],
   "source": [
    "IPython.display.Audio(chopList[3],rate = 44100)\n"
   ]
  },
  {
   "cell_type": "code",
   "execution_count": null,
   "id": "34275242",
   "metadata": {
    "pycharm": {
     "name": "#%%\n"
    }
   },
   "outputs": [],
   "source": [
    "IPython.display.Audio(chopList[4],rate = 44100)"
   ]
  },
  {
   "cell_type": "code",
   "execution_count": null,
   "outputs": [],
   "source": [
    "def get_onsets_hfc(audio,fs):\n",
    "    od = OnsetDetection(method='hfc')\n",
    "\n",
    "    w = Windowing(type='hann')\n",
    "    fft = FFT()  # this gives us a complex FFT\n",
    "    c2p = CartesianToPolar()  # and this turns it into a pair (magnitude, phase)\n",
    "    pool = essentia.Pool()\n",
    "\n",
    "    # Computing onset detection functions.\n",
    "    for frame in FrameGenerator(audio, frameSize=1024, hopSize=512):\n",
    "        mag, phase, = c2p(fft(w(frame)))\n",
    "        pool.add('features.hfc', od(mag, phase))\n",
    "\n",
    "        onsets = Onsets()\n",
    "        onsets_hfc_seconds = onsets(essentia.array([pool['features.hfc']]), [1])\n",
    "\n",
    "    onsets_hfc_samples = onsets_hfc_seconds * fs #retun\n",
    "    return onsets_hfc_samples, onsets_hfc_seconds\n",
    "\n",
    "\n",
    "def get_slices(audio, fs):\n",
    "    onsets_hfc = get_onsets_hfc(audio,fs)[0]\n",
    "    chopList = []\n",
    "    for onset in range(len(onsets_hfc) - 1):\n",
    "        chopList.append(audio[int(onsets_hfc[onset]):int((onsets_hfc[onset + 1]))])\n",
    "\n",
    "    return chopList\n",
    "\n"
   ],
   "metadata": {
    "collapsed": false,
    "pycharm": {
     "name": "#%%\n"
    }
   }
  },
  {
   "cell_type": "code",
   "execution_count": null,
   "outputs": [],
   "source": [
    "audio = MonoLoader(filename='../loops/audio2.wav')\n",
    "chops=get_slices(audio,44100)"
   ],
   "metadata": {
    "collapsed": false,
    "pycharm": {
     "name": "#%%\n"
    }
   }
  },
  {
   "cell_type": "code",
   "execution_count": null,
   "outputs": [],
   "source": [],
   "metadata": {
    "collapsed": false,
    "pycharm": {
     "name": "#%%\n"
    }
   }
  },
  {
   "cell_type": "code",
   "execution_count": 5,
   "id": "6bee2403",
   "metadata": {
    "pycharm": {
     "name": "#%%\n"
    }
   },
   "outputs": [
    {
     "ename": "TypeError",
     "evalue": "Error cannot convert argument UNDEFINED to VECTOR_REAL",
     "output_type": "error",
     "traceback": [
      "\u001B[0;31m---------------------------------------------------------------------------\u001B[0m",
      "\u001B[0;31mTypeError\u001B[0m                                 Traceback (most recent call last)",
      "File \u001B[0;32m~/pythonenv/lib/python3.8/site-packages/essentia/standard.py:97\u001B[0m, in \u001B[0;36m_create_essentia_class.<locals>.Algo.compute\u001B[0;34m(self, *args)\u001B[0m\n\u001B[1;32m     96\u001B[0m \u001B[38;5;28;01mtry\u001B[39;00m:\n\u001B[0;32m---> 97\u001B[0m     convertedData \u001B[38;5;241m=\u001B[39m \u001B[43m_c\u001B[49m\u001B[38;5;241;43m.\u001B[39;49m\u001B[43mconvertData\u001B[49m\u001B[43m(\u001B[49m\u001B[43marg\u001B[49m\u001B[43m,\u001B[49m\u001B[43m \u001B[49m\u001B[43mgoalType\u001B[49m\u001B[43m)\u001B[49m\n\u001B[1;32m     98\u001B[0m \u001B[38;5;28;01mexcept\u001B[39;00m \u001B[38;5;167;01mTypeError\u001B[39;00m:\n",
      "File \u001B[0;32m~/pythonenv/lib/python3.8/site-packages/essentia/common.py:349\u001B[0m, in \u001B[0;36mconvertData\u001B[0;34m(data, goalType)\u001B[0m\n\u001B[1;32m    347\u001B[0m         \u001B[38;5;28;01mreturn\u001B[39;00m [[col \u001B[38;5;28;01mfor\u001B[39;00m col \u001B[38;5;129;01min\u001B[39;00m row] \u001B[38;5;28;01mfor\u001B[39;00m row \u001B[38;5;129;01min\u001B[39;00m data]\n\u001B[0;32m--> 349\u001B[0m \u001B[38;5;28;01mraise\u001B[39;00m \u001B[38;5;167;01mTypeError\u001B[39;00m(\u001B[38;5;124m'\u001B[39m\u001B[38;5;124mCannot convert data from type \u001B[39m\u001B[38;5;132;01m%s\u001B[39;00m\u001B[38;5;124m (\u001B[39m\u001B[38;5;132;01m%s\u001B[39;00m\u001B[38;5;124m) to type \u001B[39m\u001B[38;5;132;01m%s\u001B[39;00m\u001B[38;5;124m'\u001B[39m \u001B[38;5;241m%\u001B[39m\n\u001B[1;32m    350\u001B[0m                 (\u001B[38;5;28mstr\u001B[39m(origType), \u001B[38;5;28mstr\u001B[39m(\u001B[38;5;28mtype\u001B[39m(data)), \u001B[38;5;28mstr\u001B[39m(goalType)))\n",
      "\u001B[0;31mTypeError\u001B[0m: Cannot convert data from type UNDEFINED (<class 'essentia.standard._create_essentia_class.<locals>.Algo'>) to type VECTOR_REAL",
      "\nDuring handling of the above exception, another exception occurred:\n",
      "\u001B[0;31mTypeError\u001B[0m                                 Traceback (most recent call last)",
      "Input \u001B[0;32mIn [5]\u001B[0m, in \u001B[0;36m<cell line: 2>\u001B[0;34m()\u001B[0m\n\u001B[1;32m      1\u001B[0m audio \u001B[38;5;241m=\u001B[39m MonoLoader(filename\u001B[38;5;241m=\u001B[39m\u001B[38;5;124m'\u001B[39m\u001B[38;5;124m../loops/audio2.wav\u001B[39m\u001B[38;5;124m'\u001B[39m)\n\u001B[0;32m----> 2\u001B[0m chops\u001B[38;5;241m=\u001B[39m\u001B[43mget_slices\u001B[49m\u001B[43m(\u001B[49m\u001B[43maudio\u001B[49m\u001B[43m,\u001B[49m\u001B[38;5;241;43m44100\u001B[39;49m\u001B[43m)\u001B[49m\n",
      "Input \u001B[0;32mIn [4]\u001B[0m, in \u001B[0;36mget_slices\u001B[0;34m(audio, fs)\u001B[0m\n\u001B[1;32m     21\u001B[0m \u001B[38;5;28;01mdef\u001B[39;00m \u001B[38;5;21mget_slices\u001B[39m(audio, fs):\n\u001B[0;32m---> 22\u001B[0m     onsets_hfc \u001B[38;5;241m=\u001B[39m \u001B[43mget_onsets_hfc\u001B[49m\u001B[43m(\u001B[49m\u001B[43maudio\u001B[49m\u001B[43m,\u001B[49m\u001B[43mfs\u001B[49m\u001B[43m)\u001B[49m[\u001B[38;5;241m0\u001B[39m]\n\u001B[1;32m     23\u001B[0m     chopList \u001B[38;5;241m=\u001B[39m []\n\u001B[1;32m     24\u001B[0m     \u001B[38;5;28;01mfor\u001B[39;00m onset \u001B[38;5;129;01min\u001B[39;00m \u001B[38;5;28mrange\u001B[39m(\u001B[38;5;28mlen\u001B[39m(onsets_hfc) \u001B[38;5;241m-\u001B[39m \u001B[38;5;241m1\u001B[39m):\n",
      "Input \u001B[0;32mIn [4]\u001B[0m, in \u001B[0;36mget_onsets_hfc\u001B[0;34m(audio, fs)\u001B[0m\n\u001B[1;32m      7\u001B[0m pool \u001B[38;5;241m=\u001B[39m essentia\u001B[38;5;241m.\u001B[39mPool()\n\u001B[1;32m      9\u001B[0m \u001B[38;5;66;03m# Computing onset detection functions.\u001B[39;00m\n\u001B[0;32m---> 10\u001B[0m \u001B[38;5;28;01mfor\u001B[39;00m frame \u001B[38;5;129;01min\u001B[39;00m FrameGenerator(audio, frameSize\u001B[38;5;241m=\u001B[39m\u001B[38;5;241m1024\u001B[39m, hopSize\u001B[38;5;241m=\u001B[39m\u001B[38;5;241m512\u001B[39m):\n\u001B[1;32m     11\u001B[0m     mag, phase, \u001B[38;5;241m=\u001B[39m c2p(fft(w(frame)))\n\u001B[1;32m     12\u001B[0m     pool\u001B[38;5;241m.\u001B[39madd(\u001B[38;5;124m'\u001B[39m\u001B[38;5;124mfeatures.hfc\u001B[39m\u001B[38;5;124m'\u001B[39m, od(mag, phase))\n",
      "File \u001B[0;32m~/pythonenv/lib/python3.8/site-packages/essentia/algorithms.py:112\u001B[0m, in \u001B[0;36mcreate_python_algorithms.<locals>.FrameGenerator.__next__\u001B[0;34m(self)\u001B[0m\n\u001B[1;32m    111\u001B[0m \u001B[38;5;28;01mdef\u001B[39;00m \u001B[38;5;21m__next__\u001B[39m(\u001B[38;5;28mself\u001B[39m):\n\u001B[0;32m--> 112\u001B[0m     frame \u001B[38;5;241m=\u001B[39m \u001B[38;5;28;43mself\u001B[39;49m\u001B[38;5;241;43m.\u001B[39;49m\u001B[43mframe_creator\u001B[49m\u001B[38;5;241;43m.\u001B[39;49m\u001B[43mcompute\u001B[49m\u001B[43m(\u001B[49m\u001B[38;5;28;43mself\u001B[39;49m\u001B[38;5;241;43m.\u001B[39;49m\u001B[43maudio\u001B[49m\u001B[43m)\u001B[49m\n\u001B[1;32m    113\u001B[0m     \u001B[38;5;28;01mif\u001B[39;00m frame\u001B[38;5;241m.\u001B[39msize \u001B[38;5;241m==\u001B[39m \u001B[38;5;241m0\u001B[39m:\n\u001B[1;32m    114\u001B[0m         \u001B[38;5;28;01mraise\u001B[39;00m \u001B[38;5;167;01mStopIteration\u001B[39;00m\n",
      "File \u001B[0;32m~/pythonenv/lib/python3.8/site-packages/essentia/standard.py:99\u001B[0m, in \u001B[0;36m_create_essentia_class.<locals>.Algo.compute\u001B[0;34m(self, *args)\u001B[0m\n\u001B[1;32m     97\u001B[0m         convertedData \u001B[38;5;241m=\u001B[39m _c\u001B[38;5;241m.\u001B[39mconvertData(arg, goalType)\n\u001B[1;32m     98\u001B[0m     \u001B[38;5;28;01mexcept\u001B[39;00m \u001B[38;5;167;01mTypeError\u001B[39;00m:\n\u001B[0;32m---> 99\u001B[0m         \u001B[38;5;28;01mraise\u001B[39;00m \u001B[38;5;167;01mTypeError\u001B[39;00m(\u001B[38;5;124m'\u001B[39m\u001B[38;5;124mError cannot convert argument \u001B[39m\u001B[38;5;132;01m%s\u001B[39;00m\u001B[38;5;124m to \u001B[39m\u001B[38;5;132;01m%s\u001B[39;00m\u001B[38;5;124m'\u001B[39m \\\n\u001B[1;32m    100\u001B[0m               \u001B[38;5;241m%\u001B[39m(\u001B[38;5;28mstr\u001B[39m(_c\u001B[38;5;241m.\u001B[39mdetermineEdt(arg)), \u001B[38;5;28mstr\u001B[39m(goalType)))\n\u001B[1;32m    102\u001B[0m     convertedArgs\u001B[38;5;241m.\u001B[39mappend(convertedData)\n\u001B[1;32m    104\u001B[0m results \u001B[38;5;241m=\u001B[39m \u001B[38;5;28mself\u001B[39m\u001B[38;5;241m.\u001B[39m__compute__(\u001B[38;5;241m*\u001B[39mconvertedArgs)\n",
      "\u001B[0;31mTypeError\u001B[0m: Error cannot convert argument UNDEFINED to VECTOR_REAL"
     ]
    }
   ],
   "source": [
    "audio = MonoLoader(filename='../loops/audio2.wav')\n",
    "chops=get_slices(audio,44100)"
   ]
  },
  {
   "cell_type": "code",
   "execution_count": null,
   "id": "3b0468fa",
   "metadata": {
    "pycharm": {
     "name": "#%%\n"
    }
   },
   "outputs": [],
   "source": []
  }
 ],
 "metadata": {
  "kernelspec": {
   "display_name": "Python 3 (ipykernel)",
   "language": "python",
   "name": "python3"
  },
  "language_info": {
   "codemirror_mode": {
    "name": "ipython",
    "version": 3
   },
   "file_extension": ".py",
   "mimetype": "text/x-python",
   "name": "python",
   "nbconvert_exporter": "python",
   "pygments_lexer": "ipython3",
   "version": "3.8.10"
  }
 },
 "nbformat": 4,
 "nbformat_minor": 5
}